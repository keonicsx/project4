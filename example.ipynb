{
 "cells": [
  {
   "cell_type": "code",
   "execution_count": 12,
   "metadata": {},
   "outputs": [
    {
     "data": {
      "text/plain": [
       "'o'"
      ]
     },
     "execution_count": 12,
     "metadata": {},
     "output_type": "execute_result"
    }
   ],
   "source": [
    "s=\"Hello python\"\n",
    "s[-2]"
   ]
  },
  {
   "cell_type": "code",
   "execution_count": 9,
   "metadata": {},
   "outputs": [
    {
     "data": {
      "text/plain": [
       "11"
      ]
     },
     "execution_count": 9,
     "metadata": {},
     "output_type": "execute_result"
    }
   ],
   "source": [
    "len(s)-1"
   ]
  },
  {
   "cell_type": "code",
   "execution_count": 22,
   "metadata": {},
   "outputs": [
    {
     "name": "stdout",
     "output_type": "stream",
     "text": [
      " Computer\n",
      " Science \n"
     ]
    }
   ],
   "source": [
    "print(\" Computer\\n Science \")"
   ]
  },
  {
   "cell_type": "code",
   "execution_count": 23,
   "metadata": {},
   "outputs": [
    {
     "name": "stdout",
     "output_type": "stream",
     "text": [
      " Computer\u000bScience \n"
     ]
    }
   ],
   "source": [
    "print(\" Computer\\vScience \")"
   ]
  },
  {
   "cell_type": "code",
   "execution_count": 34,
   "metadata": {},
   "outputs": [
    {
     "name": "stdout",
     "output_type": "stream",
     "text": [
      "Z\n"
     ]
    }
   ],
   "source": [
    "print(\"\\x5A\")"
   ]
  },
  {
   "cell_type": "code",
   "execution_count": 10,
   "metadata": {},
   "outputs": [
    {
     "name": "stdout",
     "output_type": "stream",
     "text": [
      "9\n"
     ]
    }
   ],
   "source": [
    "a=0O11\n",
    "print(a)"
   ]
  },
  {
   "attachments": {},
   "cell_type": "markdown",
   "metadata": {},
   "source": [
    "Hex examples"
   ]
  },
  {
   "cell_type": "code",
   "execution_count": 17,
   "metadata": {},
   "outputs": [
    {
     "name": "stdout",
     "output_type": "stream",
     "text": [
      "32\n"
     ]
    }
   ],
   "source": [
    "val= 0x020\n",
    "print(val)"
   ]
  },
  {
   "attachments": {},
   "cell_type": "markdown",
   "metadata": {},
   "source": [
    "Binary"
   ]
  },
  {
   "cell_type": "code",
   "execution_count": 18,
   "metadata": {},
   "outputs": [
    {
     "name": "stdout",
     "output_type": "stream",
     "text": [
      "1\n"
     ]
    }
   ],
   "source": [
    "c= 0B0001\n",
    "print(c)"
   ]
  },
  {
   "cell_type": "code",
   "execution_count": 21,
   "metadata": {},
   "outputs": [
    {
     "data": {
      "text/plain": [
       "10.9"
      ]
     },
     "execution_count": 21,
     "metadata": {},
     "output_type": "execute_result"
    }
   ],
   "source": [
    "price =float(10.90)\n",
    "price"
   ]
  },
  {
   "cell_type": "code",
   "execution_count": null,
   "metadata": {},
   "outputs": [],
   "source": [
    "\n",
    "if(False==True):\n",
    "    # x='0'\n",
    "    # x=0\n",
    "    # x=True"
   ]
  },
  {
   "cell_type": "code",
   "execution_count": 9,
   "metadata": {},
   "outputs": [
    {
     "name": "stdout",
     "output_type": "stream",
     "text": [
      "4\n"
     ]
    }
   ],
   "source": [
    "def sqr(num):\n",
    "    result = num * num\n",
    "    return result\n",
    "\n",
    "result = sqr(2)\n",
    "print(result)\n"
   ]
  },
  {
   "cell_type": "code",
   "execution_count": 9,
   "metadata": {},
   "outputs": [],
   "source": [
    "\n",
    "def get():    # Function Def\n",
    "    a=input(\"Enter a number: \")\n",
    "    return  a\n",
    "\n",
    "def setter(b):\n",
    "    a=b\n",
    "    return a\n",
    "\n",
    "# Function call\n",
    "\n",
    "# print( setter( get() )  )\n",
    "\n",
    "\n"
   ]
  },
  {
   "cell_type": "code",
   "execution_count": 17,
   "metadata": {},
   "outputs": [
    {
     "name": "stdout",
     "output_type": "stream",
     "text": [
      " x=  10  y= 20\n",
      " x=  140711272969288  y= 140711272969608\n",
      " x=  20  y= 10\n",
      " x=  140711272969608  y= 140711272969288\n",
      " x=  10  y= 20\n",
      " x=  140711272969288  y= 140711272969608\n"
     ]
    }
   ],
   "source": [
    "\n",
    "def main():\n",
    "    a = 10\n",
    "    b = 20\n",
    "    result= swap_function(a,b)\n",
    "    # my_string =  \"After joining of \" + a + \" and \" + b + \" = \"  + result\n",
    "    # display_result(my_string)\n",
    "\n",
    "def swap_function(x,y):\n",
    "    print(\" x= \",x,\" y=\",y)\n",
    "    print(\" x= \",id(x),\" y=\",id(y))\n",
    "    temp = x   #    temp = 10\n",
    "    x    = y    #   x    = 20\n",
    "    y    = temp  #  y = 10\n",
    "    print(\" x= \",x,\" y=\",y)\n",
    "    print(\" x= \",id(x),\" y=\",id(y))\n",
    "    \n",
    "    x,y = y,x\n",
    "    \n",
    "    print(\" x= \",x,\" y=\",y)\n",
    "    print(\" x= \",id(x),\" y=\",id(y))\n",
    "\n",
    "def display_result(print_string):\n",
    "    print(print_string)\n",
    "\n",
    "main()"
   ]
  },
  {
   "cell_type": "code",
   "execution_count": 2,
   "metadata": {},
   "outputs": [
    {
     "name": "stdout",
     "output_type": "stream",
     "text": [
      "square root of 10 is  100\n"
     ]
    }
   ],
   "source": [
    "def sqrtnum():\n",
    "    num = 10\n",
    "    sqrt = num ** 0.5\n",
    "    print(\"square root of 10 is \" , sqrt )\n",
    "\n",
    "sqrtnum()\n",
    "\n",
    "# print(numbers)"
   ]
  },
  {
   "cell_type": "code",
   "execution_count": 6,
   "metadata": {},
   "outputs": [
    {
     "name": "stdout",
     "output_type": "stream",
     "text": [
      "30 30\n",
      "avg: 30.0\n",
      "student fails\n"
     ]
    }
   ],
   "source": [
    "def getmarks(): \n",
    "    sub1=int(input(\"maths marks pls\"))\n",
    "    sub2=int(input(\"stats marks pls\"))\n",
    "    print(sub1,sub2)\n",
    "    result_avg=avg(sub1,sub2)\n",
    "    exam_result(result_avg)\n",
    "    \n",
    "def avg(sub1,sub2): \n",
    "    result = (sub1+sub2)/2\n",
    "    print(\"avg:\",result)\n",
    "    return result\n",
    "    \n",
    "def exam_result(avg_value): \n",
    "    if (avg_value>35):   \n",
    "        print(\"student passes\")\n",
    "    else:   \n",
    "        print(\"student fails\")\n",
    "\n",
    "getmarks()"
   ]
  },
  {
   "cell_type": "code",
   "execution_count": 14,
   "metadata": {},
   "outputs": [
    {
     "name": "stdout",
     "output_type": "stream",
     "text": [
      "('after joining of10', 'and', 20, '=', 30)\n"
     ]
    }
   ],
   "source": [
    "def main():\n",
    "    a=\"joel\"\n",
    "    b=\"jo\"\n",
    "    result = concat_function(a,b)\n",
    "    my_string=\"after joining of\" , a , \"and\" , b ,\"=\", result\n",
    "    display_result(my_string)\n",
    "\n",
    "def concat_function(x,y):\n",
    "    result = x+y\n",
    "    return result\n",
    "\n",
    "def display_result(my_string):\n",
    "    print(my_string)\n",
    "\n",
    "main()"
   ]
  },
  {
   "cell_type": "code",
   "execution_count": 17,
   "metadata": {},
   "outputs": [
    {
     "name": "stdout",
     "output_type": "stream",
     "text": [
      "entered value is even\n",
      " the entered value10is even with remainder : 0\n"
     ]
    }
   ],
   "source": [
    "def main():\n",
    "    a = 10\n",
    "    result= concat_funtion(a)\n",
    "    my_string = \"the entered value\" + str(a) + \"is even\"   \" with remainder : \"+ str(result)\n",
    "    display_result(my_string,result)\n",
    "\n",
    "\n",
    "def concat_funtion(x):\n",
    "        return x % 2\n",
    "\n",
    "def display_result(my_string,result):\n",
    "    if (result % 2==0):\n",
    "      print(\"entered value is even\\n\",my_string)\n",
    "    else:\n",
    "      print(\"entered value is Odd\\n\",my_string)\n",
    "\n",
    "main()"
   ]
  },
  {
   "cell_type": "code",
   "execution_count": 11,
   "metadata": {},
   "outputs": [
    {
     "name": "stdout",
     "output_type": "stream",
     "text": [
      "Address of a:  140718898476424\n",
      "Address of a:  140718898476424\n",
      "Address of a:  140718898476424\n"
     ]
    }
   ],
   "source": [
    "a=20\n",
    "print(\"Address of a: \",id(a))\n",
    "\n",
    "b=a\n",
    "c=20\n",
    "print(\"Address of a: \",id(c))\n",
    "d=c\n",
    "print(\"Address of a: \",id(d))"
   ]
  },
  {
   "cell_type": "code",
   "execution_count": 14,
   "metadata": {},
   "outputs": [
    {
     "name": "stdout",
     "output_type": "stream",
     "text": [
      "5 10 15\n",
      "10 15 5\n"
     ]
    }
   ],
   "source": [
    "p,q,r = 5,10,15\n",
    "\n",
    "print(p,q,r)\n",
    "\n",
    "# q,r = r,q\n",
    "\n",
    "# print(q,r)\n",
    "\n",
    "#   p=q      \n",
    "#   q=r\n",
    "#   r=p\n",
    "\n",
    "p,q,r = q,r,p\n",
    "print(p,q,r)\n",
    "\n",
    "\n"
   ]
  },
  {
   "cell_type": "code",
   "execution_count": 20,
   "metadata": {},
   "outputs": [
    {
     "name": "stdout",
     "output_type": "stream",
     "text": [
      "6 15 -3\n"
     ]
    }
   ],
   "source": [
    "a =5\n",
    "b=10\n",
    "c=7\n",
    "\n",
    "x , y=data()\n",
    "print(a,b,c)\n"
   ]
  },
  {
   "cell_type": "code",
   "execution_count": 3,
   "metadata": {},
   "outputs": [
    {
     "name": "stdout",
     "output_type": "stream",
     "text": [
      " Greater\n"
     ]
    }
   ],
   "source": [
    "def odd_even():\n",
    "    if 10<20:\n",
    "        print(\" Greater\")\n",
    "    else:\n",
    "        print(\" Smaller\")\n",
    "odd_even()"
   ]
  },
  {
   "cell_type": "code",
   "execution_count": 12,
   "metadata": {},
   "outputs": [
    {
     "name": "stdout",
     "output_type": "stream",
     "text": [
      "You have read the value from user: a 2.5\n",
      "6.25\n"
     ]
    }
   ],
   "source": [
    "a=float(input(\" Enter a value:  \"))\n",
    "print(\"You have read the value from user: a\",a)\n",
    "b= a*a\n",
    "print(b)\n"
   ]
  },
  {
   "attachments": {},
   "cell_type": "markdown",
   "metadata": {},
   "source": [
    "Type()"
   ]
  },
  {
   "cell_type": "code",
   "execution_count": 27,
   "metadata": {},
   "outputs": [
    {
     "name": "stdout",
     "output_type": "stream",
     "text": [
      "0xa\n",
      "<class 'str'>\n"
     ]
    }
   ],
   "source": [
    "a=int(input(\"Enter a number to convert from Dec To Hex:\"))\n",
    "b=hex(a)\n",
    "print(b)\n",
    "print(type(b))"
   ]
  },
  {
   "attachments": {},
   "cell_type": "markdown",
   "metadata": {},
   "source": [
    "Custom Program"
   ]
  },
  {
   "cell_type": "code",
   "execution_count": 37,
   "metadata": {},
   "outputs": [
    {
     "name": "stdout",
     "output_type": "stream",
     "text": [
      "15\n",
      "Sum is odd 15\n"
     ]
    }
   ],
   "source": [
    "def readdata():\n",
    "    a = int( input(\"Enter A value:\"))\n",
    "    b = int( input(\"Enter B value:\"))\n",
    "    addition(a,b)\n",
    "    \n",
    "def addition(a,b):\n",
    "    sum = a + b\n",
    "    print(sum)\n",
    "    oddeven(sum)\n",
    "\n",
    "def oddeven(sum):\n",
    "\n",
    "    if ( sum % 2 == 0 ):\n",
    "        print(\"Sum is even\",sum)\n",
    "    else:\n",
    "        print(\"Sum is odd\",sum)\n",
    "    choice = input(\"Do you want to continue?: y or n\")\n",
    "    while choice == \"n\":\n",
    "        return\n",
    "    readdata()\n",
    "        \n",
    "readdata()"
   ]
  },
  {
   "attachments": {},
   "cell_type": "markdown",
   "metadata": {},
   "source": [
    "Write a python program to find the largest of 5 numbers from users?"
   ]
  },
  {
   "cell_type": "code",
   "execution_count": 6,
   "metadata": {},
   "outputs": [
    {
     "name": "stdout",
     "output_type": "stream",
     "text": [
      "10 20.5 Python."
     ]
    }
   ],
   "source": [
    "a=10\n",
    "b=20.5\n",
    "c=\"Python\"\n",
    "print(a,b,c,end=\".\")"
   ]
  },
  {
   "cell_type": "code",
   "execution_count": 9,
   "metadata": {},
   "outputs": [
    {
     "name": "stdout",
     "output_type": "stream",
     "text": [
      "12\n",
      "Hello Python\n"
     ]
    }
   ],
   "source": [
    "fileptr= open(\"firstfile.txt\",\"w\")\n",
    "print(fileptr.write(\"Hello Python\"))\n",
    "\n",
    "fileptr= open(\"firstfile.txt\",\"r\")\n",
    "print(fileptr.read())"
   ]
  },
  {
   "cell_type": "code",
   "execution_count": 3,
   "metadata": {},
   "outputs": [
    {
     "data": {
      "text/plain": [
       "10"
      ]
     },
     "execution_count": 3,
     "metadata": {},
     "output_type": "execute_result"
    }
   ],
   "source": [
    "a = 5\n",
    "b = 5\n",
    "c=a+b\n",
    "c"
   ]
  },
  {
   "attachments": {},
   "cell_type": "markdown",
   "metadata": {},
   "source": [
    "Integer"
   ]
  },
  {
   "cell_type": "code",
   "execution_count": 31,
   "metadata": {},
   "outputs": [
    {
     "data": {
      "text/plain": [
       "16"
      ]
     },
     "execution_count": 31,
     "metadata": {},
     "output_type": "execute_result"
    }
   ],
   "source": [
    "m =4\n",
    "n=2\n",
    "rem = m ** n\n",
    "rem"
   ]
  },
  {
   "attachments": {},
   "cell_type": "markdown",
   "metadata": {},
   "source": [
    "Float"
   ]
  },
  {
   "cell_type": "code",
   "execution_count": 33,
   "metadata": {},
   "outputs": [
    {
     "name": "stdout",
     "output_type": "stream",
     "text": [
      "<class 'float'>\n"
     ]
    }
   ],
   "source": [
    "a = 5/2\n",
    "print(type(a))"
   ]
  },
  {
   "attachments": {},
   "cell_type": "markdown",
   "metadata": {},
   "source": [
    "Complex"
   ]
  },
  {
   "cell_type": "code",
   "execution_count": 61,
   "metadata": {},
   "outputs": [
    {
     "data": {
      "text/plain": [
       "(-13+13j)"
      ]
     },
     "execution_count": 61,
     "metadata": {},
     "output_type": "execute_result"
    }
   ],
   "source": [
    "a = 1 + 5j\n",
    "b= 2 + 3j\n",
    "# a+ib * c+id = (a*c - b*d) + i(a*d + b*c)\n",
    "# mul         = (1*2 - 5*3) + (1*3 + 5*2)\n",
    "#     -13         + 13 j\n",
    "mul=a*b\n",
    "mul"
   ]
  },
  {
   "attachments": {},
   "cell_type": "markdown",
   "metadata": {},
   "source": [
    "Boolean"
   ]
  },
  {
   "cell_type": "code",
   "execution_count": 48,
   "metadata": {},
   "outputs": [
    {
     "name": "stdout",
     "output_type": "stream",
     "text": [
      "False\n"
     ]
    }
   ],
   "source": [
    "# boolean\n",
    "a = True\n",
    "b= False\n",
    "# print(bool(a))\n",
    "c= None\n",
    "print(bool(c))\n"
   ]
  },
  {
   "attachments": {},
   "cell_type": "markdown",
   "metadata": {},
   "source": [
    "Bool examples"
   ]
  },
  {
   "cell_type": "code",
   "execution_count": 58,
   "metadata": {},
   "outputs": [
    {
     "name": "stdout",
     "output_type": "stream",
     "text": [
      "Let's go for walk False\n"
     ]
    }
   ],
   "source": [
    "user_input = bool(input(\"Are you hungry? True or False: \"))\n",
    "if user_input:\n",
    "    print(\" You need to eat some foods \")\n",
    "else:\n",
    "    print(\"Let's go for walk\", user_input)"
   ]
  },
  {
   "cell_type": "code",
   "execution_count": 60,
   "metadata": {},
   "outputs": [
    {
     "name": "stdout",
     "output_type": "stream",
     "text": [
      "True\n"
     ]
    }
   ],
   "source": [
    "val = bool(input(\"Enter a char\"))\n",
    "\n",
    "print(val)"
   ]
  },
  {
   "attachments": {},
   "cell_type": "markdown",
   "metadata": {},
   "source": [
    "Strings"
   ]
  },
  {
   "cell_type": "code",
   "execution_count": 8,
   "metadata": {},
   "outputs": [
    {
     "name": "stdout",
     "output_type": "stream",
     "text": [
      "String with the use of Single Quotes: \n",
      "Welcome to the Geeks World\n",
      "\n",
      "String with the use of Double Quotes: \n",
      "I'm a Geek\n",
      "\n",
      "String with the use of Triple Quotes: \n",
      "I'm a Geek and I live in a world of \"Geeks\"\n",
      "\n",
      "Creating a multiline String: \n",
      "\n"
     ]
    }
   ],
   "source": [
    "str1 = \"hello world\"\n",
    "\n",
    "str1 = 'hello world'\n",
    "str2='''String with the use of Single Quotes: \n",
    "Welcome to the Geeks World\n",
    "\n",
    "String with the use of Double Quotes: \n",
    "I'm a Geek\n",
    "\n",
    "String with the use of Triple Quotes: \n",
    "I'm a Geek and I live in a world of \"Geeks\"\n",
    "\n",
    "Creating a multiline String: \n",
    "'''\n",
    "print(str2)\n",
    "\n"
   ]
  },
  {
   "attachments": {},
   "cell_type": "markdown",
   "metadata": {},
   "source": [
    "String functions"
   ]
  },
  {
   "cell_type": "code",
   "execution_count": 18,
   "metadata": {},
   "outputs": [
    {
     "name": "stdout",
     "output_type": "stream",
     "text": [
      "1\n"
     ]
    }
   ],
   "source": [
    "text =\"KeonIcS HuBli HuBli\"\n",
    "\n",
    "result = text.count(\"\")\n",
    "\n",
    "print(result) \n"
   ]
  },
  {
   "attachments": {},
   "cell_type": "markdown",
   "metadata": {},
   "source": [
    "Lists"
   ]
  },
  {
   "cell_type": "code",
   "execution_count": 49,
   "metadata": {},
   "outputs": [
    {
     "name": "stdout",
     "output_type": "stream",
     "text": [
      "Python\n"
     ]
    }
   ],
   "source": [
    "a=[10,20,30,'''Hello World''',10.5,[100,200,[\"Python\",\" World\"]]]\n",
    "# 1                                 -1\n",
    "# 2                                         -1\n",
    "# 3                                               -2 ,     -1\n",
    "\n",
    "print(a[-1][-1][-2] )\n"
   ]
  },
  {
   "cell_type": "code",
   "execution_count": 52,
   "metadata": {},
   "outputs": [
    {
     "name": "stdout",
     "output_type": "stream",
     "text": [
      "['python', 'world']\n"
     ]
    }
   ],
   "source": [
    "list1=input(\"Enter elements:\")\n",
    "\n",
    "list2=list1.split()\n",
    "\n",
    "print(list2)"
   ]
  },
  {
   "attachments": {},
   "cell_type": "markdown",
   "metadata": {},
   "source": [
    "append()"
   ]
  },
  {
   "cell_type": "code",
   "execution_count": 62,
   "metadata": {},
   "outputs": [
    {
     "name": "stdout",
     "output_type": "stream",
     "text": [
      "['10', '20', [100, 200, 300, ['Python']]]\n"
     ]
    }
   ],
   "source": [
    "c=[]\n",
    "\n",
    "c.append(input(\"enter the element1 \"))\n",
    "c.append(input(\"enter the element2 \"))\n",
    "c.append([100,200,300,['Python']])\n",
    "print(c)"
   ]
  },
  {
   "attachments": {},
   "cell_type": "markdown",
   "metadata": {},
   "source": [
    "insert() in list"
   ]
  },
  {
   "cell_type": "code",
   "execution_count": 65,
   "metadata": {},
   "outputs": [
    {
     "name": "stdout",
     "output_type": "stream",
     "text": [
      "[10, 20, 30]\n",
      "[['Python', 100, 500, 1000], 10, 20, 30]\n"
     ]
    }
   ],
   "source": [
    "list1 = [10,20,30]\n",
    "print(list1)\n",
    "\n",
    "list1.insert(0,[\"Python\",100,500,1000])\n",
    "print(list1)"
   ]
  },
  {
   "attachments": {},
   "cell_type": "markdown",
   "metadata": {},
   "source": [
    "Extend() in list"
   ]
  },
  {
   "cell_type": "code",
   "execution_count": 67,
   "metadata": {},
   "outputs": [
    {
     "data": {
      "text/plain": [
       "[0, 1, 2, [3, 4, 5, 6]]"
      ]
     },
     "execution_count": 67,
     "metadata": {},
     "output_type": "execute_result"
    }
   ],
   "source": [
    "list=[0,1,2]\n",
    "\n",
    "list.append([3,4,5,6])\n",
    "\n",
    "list"
   ]
  },
  {
   "attachments": {},
   "cell_type": "markdown",
   "metadata": {},
   "source": [
    "reverse()"
   ]
  },
  {
   "cell_type": "code",
   "execution_count": 74,
   "metadata": {},
   "outputs": [
    {
     "name": "stdout",
     "output_type": "stream",
     "text": [
      "[0, 1, 5, 3, 4]\n",
      "[4, 3, 5, 1, 0]\n"
     ]
    }
   ],
   "source": [
    "list1=[0,1,5,3,4]\n",
    "print(list1)\n",
    "list1.reverse()\n",
    "print(list1)"
   ]
  },
  {
   "attachments": {},
   "cell_type": "markdown",
   "metadata": {},
   "source": [
    "remove()"
   ]
  },
  {
   "cell_type": "code",
   "execution_count": 93,
   "metadata": {},
   "outputs": [
    {
     "name": "stdout",
     "output_type": "stream",
     "text": [
      "[1, 2, 3, 4, 5, 4, 6]\n",
      "1\n",
      "3\n",
      "5\n",
      "6\n",
      "[2, 4, 4]\n"
     ]
    }
   ],
   "source": [
    "list1=[1,2,3,4,5,4,6]\n",
    "print(list1)\n",
    "\n",
    "for a in list1:\n",
    "    print(a)\n",
    "    list1.remove(a)\n",
    "\n",
    "print(list1)"
   ]
  },
  {
   "attachments": {},
   "cell_type": "markdown",
   "metadata": {},
   "source": [
    "pop()"
   ]
  },
  {
   "cell_type": "code",
   "execution_count": 97,
   "metadata": {},
   "outputs": [
    {
     "name": "stdout",
     "output_type": "stream",
     "text": [
      "2\n"
     ]
    },
    {
     "data": {
      "text/plain": [
       "[1, 3, 4, 5]"
      ]
     },
     "execution_count": 97,
     "metadata": {},
     "output_type": "execute_result"
    }
   ],
   "source": [
    "list1= [1,2,3,4,5]\n",
    "\n",
    "returnvalue = list1.pop(-4)\n",
    "\n",
    "print(returnvalue)\n",
    "\n",
    "list1\n",
    "\n"
   ]
  }
 ],
 "metadata": {
  "kernelspec": {
   "display_name": "Python 3",
   "language": "python",
   "name": "python3"
  },
  "language_info": {
   "codemirror_mode": {
    "name": "ipython",
    "version": 3
   },
   "file_extension": ".py",
   "mimetype": "text/x-python",
   "name": "python",
   "nbconvert_exporter": "python",
   "pygments_lexer": "ipython3",
   "version": "3.11.2"
  },
  "orig_nbformat": 4,
  "vscode": {
   "interpreter": {
    "hash": "7aeaa235dd25fc52d50d8377bc90b087229a97b22f98c0d409f0d9fac95873d5"
   }
  }
 },
 "nbformat": 4,
 "nbformat_minor": 2
}
