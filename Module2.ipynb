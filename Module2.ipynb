{
 "cells": [
  {
   "attachments": {},
   "cell_type": "markdown",
   "metadata": {},
   "source": [
    "Functions"
   ]
  },
  {
   "cell_type": "code",
   "execution_count": 1,
   "metadata": {},
   "outputs": [
    {
     "name": "stdout",
     "output_type": "stream",
     "text": [
      "first == Geeks\n",
      "mid == for\n",
      "last == Geeks\n"
     ]
    }
   ],
   "source": [
    " \n",
    "def myFun(**kwargs):\n",
    "    for key, value in kwargs.items():\n",
    "        print(\"%s == %s\" % (key, value))\n",
    " \n",
    " \n",
    "# Driver code\n",
    "myFun(first='Geeks', mid='for', last='Geeks')"
   ]
  },
  {
   "attachments": {},
   "cell_type": "markdown",
   "metadata": {},
   "source": [
    "function inside function"
   ]
  },
  {
   "cell_type": "code",
   "execution_count": 3,
   "metadata": {},
   "outputs": [
    {
     "name": "stdout",
     "output_type": "stream",
     "text": [
      "Hello Python\n"
     ]
    }
   ],
   "source": [
    "out='Python'\n",
    "\n",
    "def f1():\n",
    "    s1='Hello'\n",
    "    def f2():\n",
    "        print(s1,out)\n",
    "    f2()\n",
    "f1()"
   ]
  },
  {
   "cell_type": "code",
   "execution_count": 5,
   "metadata": {},
   "outputs": [
    {
     "name": "stdout",
     "output_type": "stream",
     "text": [
      " lorem ipsum dolor sit\n",
      "    amet, consectetur\n",
      "    adipis\n",
      "......................\n",
      "<function my_function at 0x000001CC28748C20>\n"
     ]
    }
   ],
   "source": [
    "def my_function():\n",
    "    ''' lorem ipsum dolor sit\n",
    "    amet, consectetur\n",
    "    adipis'''\n",
    "    return None\n",
    "\n",
    "print(my_function.__doc__)\n",
    "print('......................')\n",
    "print(my_function)"
   ]
  },
  {
   "cell_type": "code",
   "execution_count": 8,
   "metadata": {},
   "outputs": [
    {
     "name": "stdout",
     "output_type": "stream",
     "text": [
      "8\n",
      "64\n"
     ]
    }
   ],
   "source": [
    "def cube_function(n):\n",
    "    ans = n*n*n\n",
    "    return ans\n",
    "\n",
    "print(cube_function(2))\n"
   ]
  },
  {
   "cell_type": "code",
   "execution_count": 13,
   "metadata": {},
   "outputs": [
    {
     "name": "stdout",
     "output_type": "stream",
     "text": [
      "False\n",
      "12\n"
     ]
    }
   ],
   "source": [
    "var = lambda a: \n",
    "print(var(2))\n",
    "\n",
    "def add(a):\n",
    "    a+10\n",
    "    a-10\n",
    "    return a+10\n",
    "print(add(2))"
   ]
  },
  {
   "cell_type": "code",
   "execution_count": 23,
   "metadata": {},
   "outputs": [
    {
     "name": "stdout",
     "output_type": "stream",
     "text": [
      "4\n",
      "64\n",
      "From User def: 5\n"
     ]
    }
   ],
   "source": [
    "var1=lambda n: n*n\n",
    "var2=lambda n: n*n*n\n",
    "\n",
    "ans= var1(2)\n",
    "print(ans)\n",
    "print(var2(ans))\n",
    "\n",
    "def call_func():\n",
    "    ans = var1(2) + 1\n",
    "    print(\"From User def:\",ans)\n",
    "\n",
    "call_func()"
   ]
  },
  {
   "cell_type": "code",
   "execution_count": 25,
   "metadata": {},
   "outputs": [
    {
     "data": {
      "text/plain": [
       "False"
      ]
     },
     "execution_count": 25,
     "metadata": {},
     "output_type": "execute_result"
    }
   ],
   "source": [
    "#program to find odd and even\n",
    "ans = lambda num: True if num%2 == 0 else False\n",
    "\n",
    "ans(3)\n"
   ]
  }
 ],
 "metadata": {
  "kernelspec": {
   "display_name": "Python 3",
   "language": "python",
   "name": "python3"
  },
  "language_info": {
   "codemirror_mode": {
    "name": "ipython",
    "version": 3
   },
   "file_extension": ".py",
   "mimetype": "text/x-python",
   "name": "python",
   "nbconvert_exporter": "python",
   "pygments_lexer": "ipython3",
   "version": "3.11.2"
  },
  "orig_nbformat": 4
 },
 "nbformat": 4,
 "nbformat_minor": 2
}
